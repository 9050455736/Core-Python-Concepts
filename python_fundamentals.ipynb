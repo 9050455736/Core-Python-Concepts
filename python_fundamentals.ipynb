{
 "cells": [
  {
   "cell_type": "markdown",
   "id": "0a2dca5a",
   "metadata": {},
   "source": [
    "# comments :\n",
    " comments are used to give the description to my code in order to enhance the readibilty of the code\n",
    " \n",
    "- it also helps in debugging\n",
    "\n",
    "\n",
    "\n",
    "### there are two type of comments:\n",
    "\n",
    "- single line comment\n",
    "- multi line comment"
   ]
  },
  {
   "cell_type": "markdown",
   "id": "02bce233",
   "metadata": {},
   "source": [
    "single line comment: using #"
   ]
  },
  {
   "cell_type": "code",
   "execution_count": 16,
   "id": "871b99fd",
   "metadata": {},
   "outputs": [
    {
     "data": {
      "text/plain": [
       "90"
      ]
     },
     "execution_count": 16,
     "metadata": {},
     "output_type": "execute_result"
    }
   ],
   "source": [
    "x"
   ]
  },
  {
   "cell_type": "code",
   "execution_count": 4,
   "id": "e8474880",
   "metadata": {},
   "outputs": [
    {
     "name": "stdout",
     "output_type": "stream",
     "text": [
      "heloz\n"
     ]
    }
   ],
   "source": [
    "# this is  my first code\n",
    "print(\"heloz\") # print is inbuilt function which is used to display something"
   ]
  },
  {
   "cell_type": "markdown",
   "id": "788e3eab",
   "metadata": {},
   "source": [
    "# multi line comment:"
   ]
  },
  {
   "cell_type": "code",
   "execution_count": 7,
   "id": "c086fffa",
   "metadata": {},
   "outputs": [
    {
     "data": {
      "text/plain": [
       "'this is my first code\\nwhere i am learning comments'"
      ]
     },
     "execution_count": 7,
     "metadata": {},
     "output_type": "execute_result"
    }
   ],
   "source": [
    "'''this is my first code\n",
    "where i am learning comments'''\n",
    "print(\"helozzzzzzz\")"
   ]
  },
  {
   "cell_type": "markdown",
   "id": "cbd09d83",
   "metadata": {},
   "source": [
    "# variables: variables are the containers which is used to hold the data "
   ]
  },
  {
   "cell_type": "code",
   "execution_count": 19,
   "id": "cf851dbd",
   "metadata": {},
   "outputs": [],
   "source": [
    "x=90 # x is the variable where 90 is assigning to it"
   ]
  },
  {
   "cell_type": "markdown",
   "id": "f8152731",
   "metadata": {},
   "source": [
    "# fetch the value of variable or  how to access the variable"
   ]
  },
  {
   "cell_type": "code",
   "execution_count": 11,
   "id": "c8c4a166",
   "metadata": {},
   "outputs": [
    {
     "data": {
      "text/plain": [
       "90"
      ]
     },
     "execution_count": 11,
     "metadata": {},
     "output_type": "execute_result"
    }
   ],
   "source": [
    "x"
   ]
  },
  {
   "cell_type": "code",
   "execution_count": 17,
   "id": "18d84a03",
   "metadata": {},
   "outputs": [],
   "source": [
    "x=50"
   ]
  },
  {
   "cell_type": "code",
   "execution_count": 18,
   "id": "0ec39232",
   "metadata": {},
   "outputs": [
    {
     "data": {
      "text/plain": [
       "50"
      ]
     },
     "execution_count": 18,
     "metadata": {},
     "output_type": "execute_result"
    }
   ],
   "source": [
    "x"
   ]
  },
  {
   "cell_type": "markdown",
   "id": "292b0919",
   "metadata": {},
   "source": [
    "# identifiers : these are the naming rules to define the variable"
   ]
  },
  {
   "cell_type": "markdown",
   "id": "432a0253",
   "metadata": {},
   "source": [
    "- rule 1: must begin with alphabets or only one special character is allowed i.e _\n",
    "- rule 2: we can have any alphabets or digits or one special charcacter is allowed i.e _ any where followed by begining rule\n",
    "- rule 3: it could be of any length\n",
    "- rule 4: it is case senistive\n",
    "- rule 5: it should not be keywords"
   ]
  },
  {
   "cell_type": "markdown",
   "id": "aec4573c",
   "metadata": {},
   "source": [
    "rule 1: must begin with alphabets or only one special character is allowed i.e _"
   ]
  },
  {
   "cell_type": "code",
   "execution_count": 21,
   "id": "f9b9ee13",
   "metadata": {},
   "outputs": [],
   "source": [
    "balmeet=900"
   ]
  },
  {
   "cell_type": "code",
   "execution_count": 22,
   "id": "fd293a2d",
   "metadata": {},
   "outputs": [
    {
     "data": {
      "text/plain": [
       "900"
      ]
     },
     "execution_count": 22,
     "metadata": {},
     "output_type": "execute_result"
    }
   ],
   "source": [
    "balmeet"
   ]
  },
  {
   "cell_type": "code",
   "execution_count": 23,
   "id": "76193003",
   "metadata": {},
   "outputs": [],
   "source": [
    "_balmeet=120\n"
   ]
  },
  {
   "cell_type": "code",
   "execution_count": 24,
   "id": "984fa5b8",
   "metadata": {},
   "outputs": [
    {
     "data": {
      "text/plain": [
       "120"
      ]
     },
     "execution_count": 24,
     "metadata": {},
     "output_type": "execute_result"
    }
   ],
   "source": [
    "_balmeet"
   ]
  },
  {
   "cell_type": "code",
   "execution_count": 25,
   "id": "2674bcbf",
   "metadata": {},
   "outputs": [
    {
     "ename": "SyntaxError",
     "evalue": "invalid syntax (4200827163.py, line 1)",
     "output_type": "error",
     "traceback": [
      "\u001b[1;36m  Input \u001b[1;32mIn [25]\u001b[1;36m\u001b[0m\n\u001b[1;33m    12balmeet=90\u001b[0m\n\u001b[1;37m      ^\u001b[0m\n\u001b[1;31mSyntaxError\u001b[0m\u001b[1;31m:\u001b[0m invalid syntax\n"
     ]
    }
   ],
   "source": [
    "12balmeet=90"
   ]
  },
  {
   "cell_type": "markdown",
   "id": "82bc77dd",
   "metadata": {},
   "source": [
    "rule 2: we can have any alphabets or digits or one special charcacter is allowed i.e _ any where followed by begining rule"
   ]
  },
  {
   "cell_type": "code",
   "execution_count": 27,
   "id": "4f769bdd",
   "metadata": {},
   "outputs": [],
   "source": [
    "balmeetkaur123=80"
   ]
  },
  {
   "cell_type": "code",
   "execution_count": 28,
   "id": "523bdf9d",
   "metadata": {},
   "outputs": [
    {
     "data": {
      "text/plain": [
       "80"
      ]
     },
     "execution_count": 28,
     "metadata": {},
     "output_type": "execute_result"
    }
   ],
   "source": [
    "balmeetkaur123"
   ]
  },
  {
   "cell_type": "code",
   "execution_count": 31,
   "id": "297f711e",
   "metadata": {},
   "outputs": [
    {
     "ename": "SyntaxError",
     "evalue": "invalid syntax (2487007307.py, line 1)",
     "output_type": "error",
     "traceback": [
      "\u001b[1;36m  Input \u001b[1;32mIn [31]\u001b[1;36m\u001b[0m\n\u001b[1;33m    balmeet kaur=90\u001b[0m\n\u001b[1;37m            ^\u001b[0m\n\u001b[1;31mSyntaxError\u001b[0m\u001b[1;31m:\u001b[0m invalid syntax\n"
     ]
    }
   ],
   "source": [
    "balmeet kaur=90"
   ]
  },
  {
   "cell_type": "markdown",
   "id": "26a6e8a8",
   "metadata": {},
   "source": [
    "rule 3: it could be of any length"
   ]
  },
  {
   "cell_type": "code",
   "execution_count": 34,
   "id": "ff704988",
   "metadata": {},
   "outputs": [],
   "source": [
    "skhsahhjdhjdahjdahdkahjhdahsjadkhjahjdhasdhahdahdk=90"
   ]
  },
  {
   "cell_type": "code",
   "execution_count": 35,
   "id": "5b7daa07",
   "metadata": {},
   "outputs": [
    {
     "data": {
      "text/plain": [
       "90"
      ]
     },
     "execution_count": 35,
     "metadata": {},
     "output_type": "execute_result"
    }
   ],
   "source": [
    "skhsahhjdhjdahjdahdkahjhdahsjadkhjahjdhasdhahdahdk"
   ]
  },
  {
   "cell_type": "markdown",
   "id": "9d1b5283",
   "metadata": {},
   "source": [
    "# rule 4: it is case sensitive"
   ]
  },
  {
   "cell_type": "code",
   "execution_count": 36,
   "id": "9e046532",
   "metadata": {},
   "outputs": [],
   "source": [
    "balmeet=80"
   ]
  },
  {
   "cell_type": "code",
   "execution_count": 37,
   "id": "5a007adf",
   "metadata": {},
   "outputs": [],
   "source": [
    "Balmeet=100"
   ]
  },
  {
   "cell_type": "markdown",
   "id": "9d548169",
   "metadata": {},
   "source": [
    "rule 5: it should not be keywords"
   ]
  },
  {
   "cell_type": "markdown",
   "id": "c47d3aa6",
   "metadata": {},
   "source": [
    "keywords : are the reserved words which has special meaning in the python"
   ]
  },
  {
   "cell_type": "code",
   "execution_count": 38,
   "id": "1c588885",
   "metadata": {},
   "outputs": [
    {
     "ename": "SyntaxError",
     "evalue": "invalid syntax (411070678.py, line 1)",
     "output_type": "error",
     "traceback": [
      "\u001b[1;36m  Input \u001b[1;32mIn [38]\u001b[1;36m\u001b[0m\n\u001b[1;33m    pass=60\u001b[0m\n\u001b[1;37m        ^\u001b[0m\n\u001b[1;31mSyntaxError\u001b[0m\u001b[1;31m:\u001b[0m invalid syntax\n"
     ]
    }
   ],
   "source": [
    "pass=60"
   ]
  },
  {
   "cell_type": "code",
   "execution_count": 39,
   "id": "9ee8860c",
   "metadata": {},
   "outputs": [],
   "source": [
    "import keyword"
   ]
  },
  {
   "cell_type": "code",
   "execution_count": 40,
   "id": "83f63ff4",
   "metadata": {},
   "outputs": [
    {
     "name": "stdout",
     "output_type": "stream",
     "text": [
      "['False', 'None', 'True', '__peg_parser__', 'and', 'as', 'assert', 'async', 'await', 'break', 'class', 'continue', 'def', 'del', 'elif', 'else', 'except', 'finally', 'for', 'from', 'global', 'if', 'import', 'in', 'is', 'lambda', 'nonlocal', 'not', 'or', 'pass', 'raise', 'return', 'try', 'while', 'with', 'yield']\n"
     ]
    }
   ],
   "source": [
    "print(keyword.kwlist)"
   ]
  },
  {
   "cell_type": "code",
   "execution_count": 41,
   "id": "9c9f4e98",
   "metadata": {},
   "outputs": [
    {
     "ename": "SyntaxError",
     "evalue": "invalid syntax (1270679290.py, line 1)",
     "output_type": "error",
     "traceback": [
      "\u001b[1;36m  Input \u001b[1;32mIn [41]\u001b[1;36m\u001b[0m\n\u001b[1;33m    if=90\u001b[0m\n\u001b[1;37m      ^\u001b[0m\n\u001b[1;31mSyntaxError\u001b[0m\u001b[1;31m:\u001b[0m invalid syntax\n"
     ]
    }
   ],
   "source": [
    "if=90"
   ]
  },
  {
   "cell_type": "code",
   "execution_count": 42,
   "id": "e414de12",
   "metadata": {},
   "outputs": [],
   "source": [
    "If=90"
   ]
  },
  {
   "cell_type": "markdown",
   "id": "ad00224b",
   "metadata": {},
   "source": [
    "# data types : defines the type of data "
   ]
  },
  {
   "cell_type": "markdown",
   "id": "237e7a20",
   "metadata": {},
   "source": [
    "- numeric\n",
    "   - int\n",
    "   - float\n",
    "   - complex\n",
    "- sequence\n",
    "  - string\n",
    "  - list\n",
    "  - tuple\n",
    "- dictionary\n",
    "- set\n",
    "- bool"
   ]
  },
  {
   "cell_type": "code",
   "execution_count": 43,
   "id": "53102b38",
   "metadata": {},
   "outputs": [],
   "source": [
    "# int : integer value : without decimal number "
   ]
  },
  {
   "cell_type": "code",
   "execution_count": 44,
   "id": "02739836",
   "metadata": {},
   "outputs": [
    {
     "name": "stdout",
     "output_type": "stream",
     "text": [
      "90\n",
      "<class 'int'>\n"
     ]
    }
   ],
   "source": [
    "a=90\n",
    "print(a)\n",
    "print(type(a)) # type is inbuilt function which tells the type"
   ]
  },
  {
   "cell_type": "code",
   "execution_count": 45,
   "id": "ef1942dd",
   "metadata": {},
   "outputs": [
    {
     "name": "stdout",
     "output_type": "stream",
     "text": [
      "-80\n",
      "<class 'int'>\n"
     ]
    }
   ],
   "source": [
    "a=-80\n",
    "print(a)\n",
    "print(type(a))"
   ]
  },
  {
   "cell_type": "code",
   "execution_count": 46,
   "id": "50764ef5",
   "metadata": {},
   "outputs": [],
   "source": [
    "# float : means number with decimal"
   ]
  },
  {
   "cell_type": "code",
   "execution_count": 47,
   "id": "98c569d5",
   "metadata": {},
   "outputs": [
    {
     "name": "stdout",
     "output_type": "stream",
     "text": [
      "90.8\n",
      "<class 'float'>\n"
     ]
    }
   ],
   "source": [
    "h=90.8\n",
    "print(h)\n",
    "print(type(h))"
   ]
  },
  {
   "cell_type": "code",
   "execution_count": 48,
   "id": "e20ee0cb",
   "metadata": {},
   "outputs": [],
   "source": [
    "# complex: "
   ]
  },
  {
   "cell_type": "code",
   "execution_count": 49,
   "id": "3b020c39",
   "metadata": {},
   "outputs": [
    {
     "name": "stdout",
     "output_type": "stream",
     "text": [
      "(8+9j)\n",
      "<class 'complex'>\n"
     ]
    }
   ],
   "source": [
    "a=8+9j\n",
    "print(a)\n",
    "print(type(a))"
   ]
  },
  {
   "cell_type": "code",
   "execution_count": 50,
   "id": "748fbe72",
   "metadata": {},
   "outputs": [],
   "source": [
    "# sequence:"
   ]
  },
  {
   "cell_type": "markdown",
   "id": "e7df0066",
   "metadata": {},
   "source": [
    "# string: textual data \n",
    "\n",
    "note : any thing which come sunder quotes that makes the string"
   ]
  },
  {
   "cell_type": "markdown",
   "id": "f6a51acf",
   "metadata": {},
   "source": [
    "# how to create the string\n",
    "- using single quotes\n",
    "- using double quotes\n",
    "- using three triple "
   ]
  },
  {
   "cell_type": "code",
   "execution_count": 51,
   "id": "4ad95ead",
   "metadata": {},
   "outputs": [
    {
     "name": "stdout",
     "output_type": "stream",
     "text": [
      "madrid edtech company\n",
      "<class 'str'>\n"
     ]
    }
   ],
   "source": [
    "a='madrid edtech company'\n",
    "print(a)\n",
    "print(type(a))"
   ]
  },
  {
   "cell_type": "code",
   "execution_count": 52,
   "id": "92eaf299",
   "metadata": {},
   "outputs": [
    {
     "name": "stdout",
     "output_type": "stream",
     "text": [
      "123\n",
      "<class 'str'>\n"
     ]
    }
   ],
   "source": [
    "b='123'\n",
    "print(b)\n",
    "print(type(b))"
   ]
  },
  {
   "cell_type": "code",
   "execution_count": 53,
   "id": "d73e3290",
   "metadata": {},
   "outputs": [
    {
     "name": "stdout",
     "output_type": "stream",
     "text": [
      "<class 'int'>\n"
     ]
    }
   ],
   "source": [
    "c=123\n",
    "print(type(c))"
   ]
  },
  {
   "cell_type": "markdown",
   "id": "12afb5a0",
   "metadata": {},
   "source": [
    "using double quotes"
   ]
  },
  {
   "cell_type": "code",
   "execution_count": 55,
   "id": "3a656271",
   "metadata": {},
   "outputs": [
    {
     "name": "stdout",
     "output_type": "stream",
     "text": [
      "madrid solutions\n",
      "<class 'str'>\n"
     ]
    }
   ],
   "source": [
    "s='madrid solutions'\n",
    "print(s)\n",
    "print(type(s))"
   ]
  },
  {
   "cell_type": "code",
   "execution_count": 57,
   "id": "faaf0a61",
   "metadata": {},
   "outputs": [
    {
     "name": "stdout",
     "output_type": "stream",
     "text": [
      "hi how'r u\n"
     ]
    }
   ],
   "source": [
    "s1=\"hi how'r u\"\n",
    "print(s1)"
   ]
  },
  {
   "cell_type": "markdown",
   "id": "920b81f4",
   "metadata": {},
   "source": [
    "# uisng ''''''"
   ]
  },
  {
   "cell_type": "code",
   "execution_count": 59,
   "id": "0e3ee271",
   "metadata": {},
   "outputs": [
    {
     "name": "stdout",
     "output_type": "stream",
     "text": [
      "sjkhskhdsa\n",
      "sshjshgjhadsds\n",
      "shshghjdsa\n",
      "sjhsahjhjsa\n",
      "sAHSHKHDS\n",
      "Sasasjajdj\n",
      "<class 'str'>\n"
     ]
    }
   ],
   "source": [
    "s='''sjkhskhdsa\n",
    "sshjshgjhadsds\n",
    "shshghjdsa\n",
    "sjhsahjhjsa\n",
    "sAHSHKHDS\n",
    "Sasasjajdj'''\n",
    "print(s)\n",
    "print(type(s))"
   ]
  },
  {
   "cell_type": "markdown",
   "id": "c6d14b2f",
   "metadata": {},
   "source": [
    "# list : it is the collection of multiple data "
   ]
  },
  {
   "cell_type": "code",
   "execution_count": 60,
   "id": "51621ba4",
   "metadata": {},
   "outputs": [
    {
     "name": "stdout",
     "output_type": "stream",
     "text": [
      "['123', 'balmeet', 'trainer', 60.5]\n",
      "<class 'list'>\n"
     ]
    }
   ],
   "source": [
    "employee=[\"123\",\"balmeet\",\"trainer\",60.5] # hetrogenous\n",
    "print(employee)\n",
    "print(type(employee))"
   ]
  },
  {
   "cell_type": "code",
   "execution_count": 63,
   "id": "6dbce0c8",
   "metadata": {},
   "outputs": [
    {
     "name": "stdout",
     "output_type": "stream",
     "text": [
      "[45000, 90000, 50000]\n",
      "<class 'list'>\n"
     ]
    }
   ],
   "source": [
    "salary=[45000,90000,50000] # homogenous\n",
    "print(salary)\n",
    "print(type(salary))"
   ]
  },
  {
   "cell_type": "code",
   "execution_count": null,
   "id": "cb0b29b2",
   "metadata": {},
   "outputs": [],
   "source": [
    "# tuple : is same as list"
   ]
  },
  {
   "cell_type": "code",
   "execution_count": 64,
   "id": "bc2e8279",
   "metadata": {},
   "outputs": [
    {
     "name": "stdout",
     "output_type": "stream",
     "text": [
      "('123', 'balmeet', 'trainer', 60.5)\n",
      "<class 'tuple'>\n"
     ]
    }
   ],
   "source": [
    "employee=(\"123\",\"balmeet\",\"trainer\",60.5)\n",
    "print(employee)\n",
    "print(type(employee))"
   ]
  },
  {
   "cell_type": "markdown",
   "id": "28cdffb4",
   "metadata": {},
   "source": [
    "# dict and set : skip "
   ]
  },
  {
   "cell_type": "markdown",
   "id": "dcc1c41d",
   "metadata": {},
   "source": [
    "# bool: True or False"
   ]
  },
  {
   "cell_type": "code",
   "execution_count": 65,
   "id": "0a8a7e99",
   "metadata": {},
   "outputs": [
    {
     "name": "stdout",
     "output_type": "stream",
     "text": [
      "True\n",
      "<class 'bool'>\n"
     ]
    }
   ],
   "source": [
    "a=True\n",
    "print(a)\n",
    "print(type(a))"
   ]
  },
  {
   "cell_type": "code",
   "execution_count": 66,
   "id": "2a2454fe",
   "metadata": {},
   "outputs": [
    {
     "name": "stdout",
     "output_type": "stream",
     "text": [
      "False\n",
      "<class 'bool'>\n"
     ]
    }
   ],
   "source": [
    "a=False\n",
    "print(a)\n",
    "print(type(a))"
   ]
  },
  {
   "cell_type": "code",
   "execution_count": 67,
   "id": "33f08fd2",
   "metadata": {},
   "outputs": [
    {
     "ename": "NameError",
     "evalue": "name 'false' is not defined",
     "output_type": "error",
     "traceback": [
      "\u001b[1;31m---------------------------------------------------------------------------\u001b[0m",
      "\u001b[1;31mNameError\u001b[0m                                 Traceback (most recent call last)",
      "Input \u001b[1;32mIn [67]\u001b[0m, in \u001b[0;36m<cell line: 1>\u001b[1;34m()\u001b[0m\n\u001b[1;32m----> 1\u001b[0m a\u001b[38;5;241m=\u001b[39m\u001b[43mfalse\u001b[49m\n\u001b[0;32m      2\u001b[0m \u001b[38;5;28mprint\u001b[39m(a)\n\u001b[0;32m      3\u001b[0m \u001b[38;5;28mprint\u001b[39m(\u001b[38;5;28mtype\u001b[39m(a))\n",
      "\u001b[1;31mNameError\u001b[0m: name 'false' is not defined"
     ]
    }
   ],
   "source": [
    "a=false\n",
    "print(a)\n",
    "print(type(a))"
   ]
  },
  {
   "cell_type": "markdown",
   "id": "de2707f9",
   "metadata": {},
   "source": [
    "# type casting:\n",
    "conversion of one type to another "
   ]
  },
  {
   "cell_type": "markdown",
   "id": "0a3bdf07",
   "metadata": {},
   "source": [
    "# float to int"
   ]
  },
  {
   "cell_type": "code",
   "execution_count": 70,
   "id": "cf5a9874",
   "metadata": {},
   "outputs": [
    {
     "name": "stdout",
     "output_type": "stream",
     "text": [
      "90.7\n",
      "<class 'float'>\n",
      "90\n",
      "<class 'int'>\n"
     ]
    }
   ],
   "source": [
    "a=90.7\n",
    "print(a)\n",
    "print(type(a))\n",
    "a1=int(a)\n",
    "print(a1)\n",
    "print(type(a1))"
   ]
  },
  {
   "cell_type": "markdown",
   "id": "4115ed5a",
   "metadata": {},
   "source": [
    "# int to float "
   ]
  },
  {
   "cell_type": "code",
   "execution_count": 71,
   "id": "707007af",
   "metadata": {},
   "outputs": [
    {
     "name": "stdout",
     "output_type": "stream",
     "text": [
      "900\n",
      "<class 'int'>\n",
      "900.0\n",
      "<class 'float'>\n"
     ]
    }
   ],
   "source": [
    "a=900\n",
    "print(a)\n",
    "print(type(a))\n",
    "a1=float(a)\n",
    "print(a1)\n",
    "print(type(a1))"
   ]
  },
  {
   "cell_type": "markdown",
   "id": "8dac1a1c",
   "metadata": {},
   "source": [
    "# int to str"
   ]
  },
  {
   "cell_type": "code",
   "execution_count": 73,
   "id": "4152691c",
   "metadata": {},
   "outputs": [
    {
     "name": "stdout",
     "output_type": "stream",
     "text": [
      "90\n",
      "<class 'int'>\n",
      "90\n",
      "<class 'str'>\n"
     ]
    }
   ],
   "source": [
    "a=90\n",
    "print(a)\n",
    "print(type(a))\n",
    "a1=str(a)\n",
    "print(a1)\n",
    "print(type(a1))"
   ]
  },
  {
   "cell_type": "code",
   "execution_count": 74,
   "id": "87a77d4f",
   "metadata": {},
   "outputs": [],
   "source": [
    "# str to int"
   ]
  },
  {
   "cell_type": "code",
   "execution_count": 75,
   "id": "5a53a6a7",
   "metadata": {},
   "outputs": [
    {
     "name": "stdout",
     "output_type": "stream",
     "text": [
      "hello\n",
      "<class 'str'>\n"
     ]
    },
    {
     "ename": "ValueError",
     "evalue": "invalid literal for int() with base 10: 'hello'",
     "output_type": "error",
     "traceback": [
      "\u001b[1;31m---------------------------------------------------------------------------\u001b[0m",
      "\u001b[1;31mValueError\u001b[0m                                Traceback (most recent call last)",
      "Input \u001b[1;32mIn [75]\u001b[0m, in \u001b[0;36m<cell line: 4>\u001b[1;34m()\u001b[0m\n\u001b[0;32m      2\u001b[0m \u001b[38;5;28mprint\u001b[39m(a)\n\u001b[0;32m      3\u001b[0m \u001b[38;5;28mprint\u001b[39m(\u001b[38;5;28mtype\u001b[39m(a))\n\u001b[1;32m----> 4\u001b[0m a1\u001b[38;5;241m=\u001b[39m\u001b[38;5;28;43mint\u001b[39;49m\u001b[43m(\u001b[49m\u001b[43ma\u001b[49m\u001b[43m)\u001b[49m\n\u001b[0;32m      5\u001b[0m \u001b[38;5;28mprint\u001b[39m(a1)\n\u001b[0;32m      6\u001b[0m \u001b[38;5;28mprint\u001b[39m(\u001b[38;5;28mtype\u001b[39m(a1))\n",
      "\u001b[1;31mValueError\u001b[0m: invalid literal for int() with base 10: 'hello'"
     ]
    }
   ],
   "source": [
    "a=\"hello\"\n",
    "print(a)\n",
    "print(type(a))\n",
    "a1=int(a)\n",
    "print(a1)\n",
    "print(type(a1))"
   ]
  },
  {
   "cell_type": "code",
   "execution_count": 76,
   "id": "55a0f55e",
   "metadata": {},
   "outputs": [
    {
     "name": "stdout",
     "output_type": "stream",
     "text": [
      "1234\n",
      "<class 'str'>\n",
      "1234\n",
      "<class 'int'>\n"
     ]
    }
   ],
   "source": [
    "a=\"1234\"\n",
    "print(a)\n",
    "print(type(a))\n",
    "a1=int(a)\n",
    "print(a1)\n",
    "print(type(a1))"
   ]
  },
  {
   "cell_type": "code",
   "execution_count": 77,
   "id": "d42ff88a",
   "metadata": {},
   "outputs": [],
   "source": [
    "# str to float"
   ]
  },
  {
   "cell_type": "code",
   "execution_count": 78,
   "id": "4767f52c",
   "metadata": {},
   "outputs": [
    {
     "name": "stdout",
     "output_type": "stream",
     "text": [
      "hello\n",
      "<class 'str'>\n"
     ]
    },
    {
     "ename": "ValueError",
     "evalue": "could not convert string to float: 'hello'",
     "output_type": "error",
     "traceback": [
      "\u001b[1;31m---------------------------------------------------------------------------\u001b[0m",
      "\u001b[1;31mValueError\u001b[0m                                Traceback (most recent call last)",
      "Input \u001b[1;32mIn [78]\u001b[0m, in \u001b[0;36m<cell line: 4>\u001b[1;34m()\u001b[0m\n\u001b[0;32m      2\u001b[0m \u001b[38;5;28mprint\u001b[39m(a)\n\u001b[0;32m      3\u001b[0m \u001b[38;5;28mprint\u001b[39m(\u001b[38;5;28mtype\u001b[39m(a))\n\u001b[1;32m----> 4\u001b[0m a1\u001b[38;5;241m=\u001b[39m\u001b[38;5;28;43mfloat\u001b[39;49m\u001b[43m(\u001b[49m\u001b[43ma\u001b[49m\u001b[43m)\u001b[49m\n\u001b[0;32m      5\u001b[0m \u001b[38;5;28mprint\u001b[39m(a1)\n\u001b[0;32m      6\u001b[0m \u001b[38;5;28mprint\u001b[39m(\u001b[38;5;28mtype\u001b[39m(a1))\n",
      "\u001b[1;31mValueError\u001b[0m: could not convert string to float: 'hello'"
     ]
    }
   ],
   "source": [
    "a=\"hello\"\n",
    "print(a)\n",
    "print(type(a))\n",
    "a1=float(a)\n",
    "print(a1)\n",
    "print(type(a1))"
   ]
  },
  {
   "cell_type": "code",
   "execution_count": 79,
   "id": "2a4486c0",
   "metadata": {},
   "outputs": [
    {
     "name": "stdout",
     "output_type": "stream",
     "text": [
      "123.67\n",
      "<class 'str'>\n",
      "123.67\n",
      "<class 'float'>\n"
     ]
    }
   ],
   "source": [
    "a=\"123.67\"\n",
    "print(a)\n",
    "print(type(a))\n",
    "a1=float(a)\n",
    "print(a1)\n",
    "print(type(a1))"
   ]
  },
  {
   "cell_type": "code",
   "execution_count": 80,
   "id": "a2a6606b",
   "metadata": {},
   "outputs": [],
   "source": [
    "# str to int"
   ]
  },
  {
   "cell_type": "code",
   "execution_count": 83,
   "id": "c6eb2f52",
   "metadata": {},
   "outputs": [
    {
     "name": "stdout",
     "output_type": "stream",
     "text": [
      "123.67\n",
      "<class 'str'>\n",
      "123\n",
      "<class 'int'>\n"
     ]
    }
   ],
   "source": [
    "a=\"123.67\" # it require double conversion\n",
    "print(a)\n",
    "print(type(a))\n",
    "a1=float(a)\n",
    "a2=int(a1)\n",
    "print(a2)\n",
    "print(type(a2))"
   ]
  },
  {
   "cell_type": "code",
   "execution_count": 84,
   "id": "034a5bb4",
   "metadata": {},
   "outputs": [],
   "source": [
    "# int to bool\n",
    "\n",
    "# if any positive integer or negative integer so it treats as true otherwise it considersas false "
   ]
  },
  {
   "cell_type": "code",
   "execution_count": 87,
   "id": "58597e71",
   "metadata": {},
   "outputs": [
    {
     "name": "stdout",
     "output_type": "stream",
     "text": [
      "0\n",
      "<class 'int'>\n",
      "False\n",
      "<class 'bool'>\n"
     ]
    }
   ],
   "source": [
    "a=0\n",
    "print(a)\n",
    "print(type(a))\n",
    "a1=bool(a)\n",
    "print(a1)\n",
    "print(type(a1))"
   ]
  },
  {
   "cell_type": "markdown",
   "id": "68e4e095",
   "metadata": {},
   "source": [
    "bool to int"
   ]
  },
  {
   "cell_type": "code",
   "execution_count": null,
   "id": "7e07af0f",
   "metadata": {},
   "outputs": [],
   "source": [
    "# bool to int"
   ]
  },
  {
   "cell_type": "code",
   "execution_count": 88,
   "id": "ae943a6c",
   "metadata": {},
   "outputs": [
    {
     "name": "stdout",
     "output_type": "stream",
     "text": [
      "True\n",
      "<class 'bool'>\n",
      "1\n",
      "<class 'int'>\n"
     ]
    }
   ],
   "source": [
    "a=True\n",
    "print(a)\n",
    "print(type(a))\n",
    "a1=int(a)\n",
    "print(a1)\n",
    "print(type(a1))"
   ]
  },
  {
   "cell_type": "code",
   "execution_count": 89,
   "id": "c4768602",
   "metadata": {},
   "outputs": [
    {
     "name": "stdout",
     "output_type": "stream",
     "text": [
      "False\n",
      "<class 'bool'>\n",
      "0\n",
      "<class 'int'>\n"
     ]
    }
   ],
   "source": [
    "a=False\n",
    "print(a)\n",
    "print(type(a))\n",
    "a1=int(a)\n",
    "print(a1)\n",
    "print(type(a1))"
   ]
  },
  {
   "cell_type": "code",
   "execution_count": 90,
   "id": "84755317",
   "metadata": {},
   "outputs": [],
   "source": [
    "# list to tuple"
   ]
  },
  {
   "cell_type": "code",
   "execution_count": 91,
   "id": "1568f507",
   "metadata": {},
   "outputs": [
    {
     "name": "stdout",
     "output_type": "stream",
     "text": [
      "[12, 13, 45, 67, 89]\n",
      "<class 'list'>\n",
      "(12, 13, 45, 67, 89)\n",
      "<class 'tuple'>\n"
     ]
    }
   ],
   "source": [
    "a=[12,13,45,67,89]\n",
    "print(a)\n",
    "print(type(a))\n",
    "a1=tuple(a)\n",
    "print(a1)\n",
    "print(type(a1))"
   ]
  },
  {
   "cell_type": "code",
   "execution_count": 92,
   "id": "d1f37855",
   "metadata": {},
   "outputs": [
    {
     "name": "stdout",
     "output_type": "stream",
     "text": [
      "(12, 13, 45, 67, 89)\n",
      "<class 'tuple'>\n",
      "[12, 13, 45, 67, 89]\n",
      "<class 'list'>\n"
     ]
    }
   ],
   "source": [
    "a=(12,13,45,67,89)\n",
    "print(a)\n",
    "print(type(a))\n",
    "a1=list(a)\n",
    "print(a1)\n",
    "print(type(a1))"
   ]
  },
  {
   "cell_type": "code",
   "execution_count": 93,
   "id": "f55be020",
   "metadata": {},
   "outputs": [],
   "source": [
    "# str to list"
   ]
  },
  {
   "cell_type": "code",
   "execution_count": 94,
   "id": "fba4ebe6",
   "metadata": {},
   "outputs": [
    {
     "name": "stdout",
     "output_type": "stream",
     "text": [
      "madrid solutions\n",
      "<class 'str'>\n",
      "['m', 'a', 'd', 'r', 'i', 'd', ' ', 's', 'o', 'l', 'u', 't', 'i', 'o', 'n', 's']\n",
      "<class 'list'>\n"
     ]
    }
   ],
   "source": [
    "a=\"madrid solutions\"\n",
    "\n",
    "print(a)\n",
    "print(type(a))\n",
    "a1=list(a)\n",
    "print(a1)\n",
    "print(type(a1))"
   ]
  },
  {
   "cell_type": "code",
   "execution_count": 95,
   "id": "8ca0ebaa",
   "metadata": {},
   "outputs": [],
   "source": [
    "# list to str"
   ]
  },
  {
   "cell_type": "code",
   "execution_count": 97,
   "id": "814f5102",
   "metadata": {},
   "outputs": [
    {
     "name": "stdout",
     "output_type": "stream",
     "text": [
      "[12, 13, 45, 67, 89]\n",
      "<class 'list'>\n",
      "<class 'str'>\n"
     ]
    },
    {
     "data": {
      "text/plain": [
       "'[12, 13, 45, 67, 89]'"
      ]
     },
     "execution_count": 97,
     "metadata": {},
     "output_type": "execute_result"
    }
   ],
   "source": [
    "a=[12,13,45,67,89]\n",
    "print(a)\n",
    "print(type(a))\n",
    "a1=str(a)\n",
    "#print(a1)\n",
    "print(type(a1))\n",
    "a1"
   ]
  },
  {
   "cell_type": "markdown",
   "id": "d32d36d0",
   "metadata": {},
   "source": [
    "# print()"
   ]
  }
 ],
 "metadata": {
  "kernelspec": {
   "display_name": "Python 3 (ipykernel)",
   "language": "python",
   "name": "python3"
  },
  "language_info": {
   "codemirror_mode": {
    "name": "ipython",
    "version": 3
   },
   "file_extension": ".py",
   "mimetype": "text/x-python",
   "name": "python",
   "nbconvert_exporter": "python",
   "pygments_lexer": "ipython3",
   "version": "3.11.5"
  }
 },
 "nbformat": 4,
 "nbformat_minor": 5
}
